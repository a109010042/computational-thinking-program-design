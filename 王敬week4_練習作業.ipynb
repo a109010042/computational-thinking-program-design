{
  "nbformat": 4,
  "nbformat_minor": 0,
  "metadata": {
    "colab": {
      "name": "王敬week4-練習作業",
      "provenance": [],
      "authorship_tag": "ABX9TyOEruJJh7S6dtL1NGDYbAW1",
      "include_colab_link": true
    },
    "kernelspec": {
      "name": "python3",
      "display_name": "Python 3"
    },
    "language_info": {
      "name": "python"
    }
  },
  "cells": [
    {
      "cell_type": "markdown",
      "metadata": {
        "id": "view-in-github",
        "colab_type": "text"
      },
      "source": [
        "<a href=\"https://colab.research.google.com/github/a109010042/computational-thinking-program-design/blob/main/%E7%8E%8B%E6%95%ACweek4_%E7%B7%B4%E7%BF%92%E4%BD%9C%E6%A5%AD.ipynb\" target=\"_parent\"><img src=\"https://colab.research.google.com/assets/colab-badge.svg\" alt=\"Open In Colab\"/></a>"
      ]
    },
    {
      "cell_type": "code",
      "metadata": {
        "id": "5YgHJNWwcv_n"
      },
      "source": [
        "II. 隨堂練習\n",
        "隨堂練習1: 自我介紹\n",
        "\n",
        "我們將和電腦一起完成很多工作，並要求它為我們做一堆很酷的事情，所以不妨來個自我介紹，正式打個招呼！\n",
        "\n",
        "(1)使用print()函數向電腦介紹自己。你的自我介紹應該顯示在主控台視窗裡，中英文均可。\n",
        "\n",
        "(2)更改現有的print()函數，使用f字串。\n",
        "\n",
        "請創立兩個變數，name和age；然後為name變數指派你的名字字串，為age變數指派一個數學運算式，計算你的年齡。最後，使用f字串、name和age變數輸出你的簡介到電腦上！\n",
        "\n",
        "預期輸出範例\n",
        "\n",
        "\"Hello, My name is Franics. I was bon in 2000.\"\n",
        "\n",
        "\"Hi, My name is Franics and I am 21 years old!\"\n",
        "\n",
        "In [ ]:\n",
        "name = \"kevin\"\n",
        "year = 2001 \n",
        "print (f\"Hello, my name is {name}. I was born in {year}.\")\n",
        "Hello, my name is kevin. I was born in 2001.\n",
        "In [ ]:\n",
        "print(\"Hello\")\n",
        "age = 2021-2001\n",
        "name = \"kevin\" \n",
        "print(f\"Hello, my name is{name}. and I am {age} year old .\")\n",
        "Hello\n",
        "Hello, my name iskevin. and I am 20 year old .\n",
        "隨堂練習2: 引用引文\n",
        "\n",
        "在網路上搜尋名言，或者使用你自己的名言。它可以是激勵你的文字、電影中一段有趣的台詞，甚至是家人說的話。\n",
        "\n",
        "In [ ]:\n",
        "讚讚讚讚讚\n"
      ],
      "execution_count": null,
      "outputs": []
    }
  ]
}