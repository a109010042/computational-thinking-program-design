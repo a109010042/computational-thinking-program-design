{
  "nbformat": 4,
  "nbformat_minor": 0,
  "metadata": {
    "colab": {
      "name": "王敬-Week3-練習作業.ipynb",
      "provenance": [],
      "authorship_tag": "ABX9TyOpPsg/rJjQhDYjJhoTlMeS",
      "include_colab_link": true
    },
    "kernelspec": {
      "name": "python3",
      "display_name": "Python 3"
    }
  },
  "cells": [
    {
      "cell_type": "markdown",
      "metadata": {
        "id": "view-in-github",
        "colab_type": "text"
      },
      "source": [
        "<a href=\"https://colab.research.google.com/github/a109010042/computational-thinking-program-design/blob/main/%E7%8E%8B%E6%95%AC_Week3_%E7%B7%B4%E7%BF%92%E4%BD%9C%E6%A5%AD.ipynb\" target=\"_parent\"><img src=\"https://colab.research.google.com/assets/colab-badge.svg\" alt=\"Open In Colab\"/></a>"
      ]
    },
    {
      "cell_type": "code",
      "metadata": {
        "id": "XmALSMf9NEFI"
      },
      "source": [
        ""
      ],
      "execution_count": null,
      "outputs": []
    },
    {
      "cell_type": "markdown",
      "metadata": {
        "id": "0k3t5ZtKNFPU"
      },
      "source": [
        "#隨堂練習\r\n"
      ]
    },
    {
      "cell_type": "markdown",
      "metadata": {
        "id": "gHJ9BXfxN9wU"
      },
      "source": [
        "#課後作業\r\n"
      ]
    },
    {
      "cell_type": "markdown",
      "metadata": {
        "id": "ByxqJu9uOt8M"
      },
      "source": [
        "課後練習則為從一則新聞報導，提出你對新聞系學生為什麼要學「運算思維與程式設計」的見解。（告訴我新聞連結，以及你的觀點即可。）"
      ]
    },
    {
      "cell_type": "markdown",
      "metadata": {
        "id": "TUaSji1IP0c1"
      },
      "source": [
        "https://www.managertoday.com.tw/articles/view/55799\r\n",
        "本文中提出利用學程式培養「運算思維」，能讓我們做事更精確、有效率,並且能培養思考邏輯.像是新聞業者,如果今天是需要現場播報,除了臨場感要好,還需要強烈的思考邏輯去拼湊現場所需報導的東西,讓場子不會乾掉.做事更精確,讓寫稿能力可以更提升與感能力,並且在未來職場上可以快狠準的把事情做好,得到長官的喜愛."
      ]
    }
  ]
}