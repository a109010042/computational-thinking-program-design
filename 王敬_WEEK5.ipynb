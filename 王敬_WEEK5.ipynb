{
  "nbformat": 4,
  "nbformat_minor": 0,
  "metadata": {
    "colab": {
      "name": "王敬_WEEK5.ipynb",
      "provenance": [],
      "authorship_tag": "ABX9TyMTsqvfXZwW4LgJCx2RhUXM",
      "include_colab_link": true
    },
    "kernelspec": {
      "name": "python3",
      "display_name": "Python 3"
    },
    "language_info": {
      "name": "python"
    }
  },
  "cells": [
    {
      "cell_type": "markdown",
      "metadata": {
        "id": "view-in-github",
        "colab_type": "text"
      },
      "source": [
        "<a href=\"https://colab.research.google.com/github/a109010042/computational-thinking-program-design/blob/main/%E7%8E%8B%E6%95%AC_WEEK5.ipynb\" target=\"_parent\"><img src=\"https://colab.research.google.com/assets/colab-badge.svg\" alt=\"Open In Colab\"/></a>"
      ]
    },
    {
      "cell_type": "code",
      "metadata": {
        "colab": {
          "base_uri": "https://localhost:8080/"
        },
        "id": "Itj-C0unfWoK",
        "outputId": "9ef2e4bc-c321-475e-d9fb-e01ed8a0f82f"
      },
      "source": [
        "name = \"Francis\"\n",
        "adjective = \"serious\" \n",
        "favorite_snack = \"cake\" \n",
        "number = \"2\" \n",
        "typeoftree = \"big tree\"\n",
        "\n",
        "silly_story = f\"\"\" \n",
        "Hi, my name is {name}. I really like {adjective}{favorite_snack}! \n",
        "I like it so much, I try to eat it at least {number} times every day. \n",
        "It tastes even better when you eat it under a {typeoftree}! \n",
        "\"\"\"\n",
        "\n",
        "print(silly_story)\n"
      ],
      "execution_count": 1,
      "outputs": [
        {
          "output_type": "stream",
          "text": [
            " \n",
            "Hi, my name is Francis. I really like seriouscake! \n",
            "I like it so much, I try to eat it at least 2 times every day. \n",
            "It tastes even better when you eat it under a big tree! \n",
            "\n"
          ],
          "name": "stdout"
        }
      ]
    },
    {
      "cell_type": "code",
      "metadata": {
        "id": "cLWpsebkfzUB"
      },
      "source": [
        ""
      ],
      "execution_count": null,
      "outputs": []
    }
  ]
}